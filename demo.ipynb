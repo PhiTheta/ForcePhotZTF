{
 "cells": [
  {
   "cell_type": "code",
   "execution_count": 1,
   "metadata": {},
   "outputs": [],
   "source": [
    "name = 'ZTF18aaqcqvr'"
   ]
  },
  {
   "cell_type": "code",
   "execution_count": 2,
   "metadata": {},
   "outputs": [],
   "source": [
    "from force_lc import get_force_lightcurve"
   ]
  },
  {
   "cell_type": "code",
   "execution_count": 3,
   "metadata": {},
   "outputs": [
    {
     "name": "stdout",
     "output_type": "stream",
     "text": [
      "\n",
      "\n",
      "Start getting coordinate for ZTF18aaqcqvr\n",
      "ZTF18aaqcqvr: ra=193.852773, dec=45.578339\n",
      "\n",
      "\n",
      "Querying for metadata...\n",
      "Trying to download 234 images from irsa...\n",
      "In progress: 0 in 234\n",
      "In progress: 30 in 234\n",
      "In progress: 60 in 234\n",
      "In progress: 90 in 234\n",
      "In progress: 120 in 234\n",
      "In progress: 150 in 234\n",
      "In progress: 180 in 234\n",
      "In progress: 210 in 234\n",
      "19 images in 234 we do not have data:\n",
      "['ztf_20180424322766_000756_zi_c03_o_q1'\n",
      " 'ztf_20180506382743_000756_zi_c03_o_q1'\n",
      " 'ztf_20180511303113_000756_zi_c03_o_q1'\n",
      " 'ztf_20180519193646_000756_zi_c03_o_q1'\n",
      " 'ztf_20180521224421_000756_zi_c03_o_q1'\n",
      " 'ztf_20180521237917_000756_zr_c03_o_q1'\n",
      " 'ztf_20180521274641_000756_zr_c03_o_q1'\n",
      " 'ztf_20180525329965_000756_zi_c03_o_q1'\n",
      " 'ztf_20180529241076_000756_zi_c03_o_q1'\n",
      " 'ztf_20180603342801_000756_zi_c03_o_q1'\n",
      " 'ztf_20180608182963_000756_zi_c03_o_q1'\n",
      " 'ztf_20180613182373_000756_zi_c03_o_q1'\n",
      " 'ztf_20180617180567_000756_zi_c03_o_q1'\n",
      " 'ztf_20180621187072_000756_zi_c03_o_q1'\n",
      " 'ztf_20180626325532_000756_zi_c03_o_q1'\n",
      " 'ztf_20180703187488_000756_zi_c03_o_q1'\n",
      " 'ztf_20180709174931_000756_zi_c03_o_q1'\n",
      " 'ztf_20180721217523_000756_zi_c03_o_q1'\n",
      " 'ztf_20181117521007_001755_zg_c10_o_q1']\n",
      "saving them to missingdata.txt\n",
      "checking if all files can be opened...\n",
      "In progress: 0 in 215...\n",
      "In progress: 30 in 215...\n",
      "In progress: 60 in 215...\n",
      "In progress: 90 in 215...\n",
      "In progress: 120 in 215...\n",
      "In progress: 150 in 215...\n",
      "In progress: 180 in 215...\n",
      "In progress: 210 in 215...\n",
      "\n",
      "\n",
      "Determining the coordinate based on observations around peak...\n",
      "Reading: 0 in 215...\n",
      "Reading: 50 in 215...\n",
      "Reading: 100 in 215...\n",
      "Reading: 150 in 215...\n",
      "Reading: 200 in 215...\n",
      "35 obs around peak to find the centroid\n",
      "re-center: 0 in 35\n"
     ]
    },
    {
     "name": "stderr",
     "output_type": "stream",
     "text": [
      "/anaconda3/lib/python3.7/site-packages/image_registration/fft_tools/convolve_nd.py:269: FutureWarning: Using a non-tuple sequence for multidimensional indexing is deprecated; use `arr[tuple(seq)]` instead of `arr[seq]`. In the future this will be interpreted as an array index, `arr[np.array(seq)]`, which will result either in an error or a different result.\n",
      "  bigarray[arrayslices] = array\n",
      "/anaconda3/lib/python3.7/site-packages/image_registration/fft_tools/convolve_nd.py:270: FutureWarning: Using a non-tuple sequence for multidimensional indexing is deprecated; use `arr[tuple(seq)]` instead of `arr[seq]`. In the future this will be interpreted as an array index, `arr[np.array(seq)]`, which will result either in an error or a different result.\n",
      "  bigkernel[kernslices] = kernel\n",
      "/anaconda3/lib/python3.7/site-packages/image_registration/fft_tools/convolve_nd.py:325: FutureWarning: Using a non-tuple sequence for multidimensional indexing is deprecated; use `arr[tuple(seq)]` instead of `arr[seq]`. In the future this will be interpreted as an array index, `arr[np.array(seq)]`, which will result either in an error or a different result.\n",
      "  result = rifft[arrayslices].real\n",
      "/anaconda3/lib/python3.7/site-packages/image_registration/fft_tools/zoom.py:101: FutureWarning: Using a non-tuple sequence for multidimensional indexing is deprecated; use `arr[tuple(seq)]` instead of `arr[seq]`. In the future this will be interpreted as an array index, `arr[np.array(seq)]`, which will result either in an error or a different result.\n",
      "  outarr[ii] = outarr_d[dims]\n"
     ]
    },
    {
     "name": "stdout",
     "output_type": "stream",
     "text": [
      "re-center: 10 in 35\n",
      "re-center: 20 in 35\n",
      "re-center: 30 in 35\n",
      "remove 0 images with bad pixels\n",
      "\n",
      "\n",
      "Start extracting light curve for ZTF18aaqcqvr...\n",
      "In progress: 0 in 215...\n",
      "6 bad pixels in 25*25 source frame\n"
     ]
    },
    {
     "name": "stderr",
     "output_type": "stream",
     "text": [
      "/Users/yuhanyao/Documents/ForcePhotZTF/phot_class.py:261: RuntimeWarning: invalid value encountered in sqrt\n",
      "  _yerr = np.sqrt(_yerrsq)\n"
     ]
    },
    {
     "name": "stdout",
     "output_type": "stream",
     "text": [
      "Set status to False -- Bad pixel in the center of PSF!\n",
      "In progress: 20 in 215...\n",
      "In progress: 40 in 215...\n",
      "Set status to False -- Bad pixel in the center of PSF!\n",
      "1 bad pixels in 25*25 source frame\n",
      "Set status to False -- Bad pixel in the center of PSF!\n",
      "In progress: 60 in 215...\n",
      "Set status to False -- Bad pixel in the center of PSF!\n",
      "36 bad pixels in 25*25 source frame\n",
      "In progress: 80 in 215...\n",
      "In progress: 100 in 215...\n",
      "50 bad pixels in 25*25 source frame\n",
      "In progress: 120 in 215...\n",
      "In progress: 140 in 215...\n",
      "In progress: 160 in 215...\n",
      "In progress: 180 in 215...\n",
      "In progress: 200 in 215...\n",
      "\n",
      "\n",
      "wring light curve to database\n"
     ]
    },
    {
     "data": {
      "text/plain": [
       "'/Users/yuhanyao/Documents/ForcePhotZTF/ZTF18aaqcqvr/'"
      ]
     },
     "execution_count": 3,
     "metadata": {},
     "output_type": "execute_result"
    }
   ],
   "source": [
    "get_force_lightcurve(name, before_marshal_detection = 20, plot_mod=20)"
   ]
  },
  {
   "cell_type": "code",
   "execution_count": 4,
   "metadata": {},
   "outputs": [],
   "source": [
    "targetdir = '/Users/yuhanyao/Documents/ForcePhotZTF/ZTF18aaqcqvr/'\n",
    "from compare_lc import compare_forcephot_marshal"
   ]
  },
  {
   "cell_type": "code",
   "execution_count": 5,
   "metadata": {},
   "outputs": [
    {
     "name": "stdout",
     "output_type": "stream",
     "text": [
      "4 epochs with bad pixels\n",
      "   0 bad pixels in r with detection\n",
      "   0 bad pixels in g with detection\n",
      "   2 bad pixels in r without detection\n",
      "   2 bad pixels in g without detection\n",
      "4 epochs with bad pixels!\n",
      "   2 bad pixels in r with detection\n",
      "   2 bad pixels in g with detection\n"
     ]
    }
   ],
   "source": [
    "compare_forcephot_marshal(name, targetdir, r_thre = 0.3, xmax = 2458335, ymin2=-1e-8)"
   ]
  },
  {
   "cell_type": "code",
   "execution_count": null,
   "metadata": {},
   "outputs": [],
   "source": []
  }
 ],
 "metadata": {
  "kernelspec": {
   "display_name": "Python 3",
   "language": "python",
   "name": "python3"
  },
  "language_info": {
   "codemirror_mode": {
    "name": "ipython",
    "version": 3
   },
   "file_extension": ".py",
   "mimetype": "text/x-python",
   "name": "python",
   "nbconvert_exporter": "python",
   "pygments_lexer": "ipython3",
   "version": "3.7.0"
  }
 },
 "nbformat": 4,
 "nbformat_minor": 2
}
