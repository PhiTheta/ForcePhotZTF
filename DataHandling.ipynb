{
 "cells": [
  {
   "cell_type": "markdown",
   "metadata": {},
   "source": [
    "# Data Handling demo\n",
    "\n",
    "Information to provide forced-fit photometry for several ZTF sources has been produced (see [Demo.ipynb](https://github.com/yaoyuhan/ForcePhotZTF/blob/master/demo.ipynb)). This short notebook details how to extract the relevant information and then write the results from the MCMC fitting procedure back into the data files. "
   ]
  },
  {
   "cell_type": "code",
   "execution_count": 2,
   "metadata": {},
   "outputs": [],
   "source": [
    "import numpy as np\n",
    "import pandas as pd\n",
    "from astropy.table import Table\n",
    "import glob\n",
    "\n",
    "import matplotlib.pyplot as plt\n",
    "%matplotlib notebook"
   ]
  },
  {
   "cell_type": "code",
   "execution_count": 9,
   "metadata": {},
   "outputs": [],
   "source": [
    "info_path = \"../early_Ia/2018/info/\"\n",
    "xy_path = \"../early_Ia/2018/xydata/\""
   ]
  },
  {
   "cell_type": "code",
   "execution_count": 10,
   "metadata": {},
   "outputs": [],
   "source": [
    "info_files = glob.glob(info_path + \"force_phot_ZTF*fits\")\n",
    "xy_files = glob.glob(xy_path + \"xydata_ZTF*fits\")"
   ]
  },
  {
   "cell_type": "code",
   "execution_count": 21,
   "metadata": {},
   "outputs": [],
   "source": [
    "# start with well known example\n",
    "ztf_name = 'ZTF18aaxsioa'\n",
    "info_file = info_path + 'force_phot_{}_info_refcut.fits'.format(ztf_name)\n",
    "xy_file = xy_path + 'xydata_{}_refcut.fits'.format(ztf_name)\n",
    "\n",
    "info_tbl = Table.read(info_file)\n",
    "xy_tbl = Table.read(xy_file)\n",
    "info_df = info_tbl.to_pandas()\n",
    "xy_df = xy_tbl.to_pandas()"
   ]
  },
  {
   "cell_type": "markdown",
   "metadata": {},
   "source": [
    "At this stage, operations are run on the data in the xy-table to measure the slope necessary to match the PSF to the difference image. This data is returned as a series of arrays with indicies based on the indicies in the xy data tables. \n",
    "\n",
    "The cell below includes example output from running the parallel processing."
   ]
  },
  {
   "cell_type": "code",
   "execution_count": 46,
   "metadata": {},
   "outputs": [],
   "source": [
    "output = [np.array([   0.        , -135.32920642,   62.96600296,    2.80687566,\n",
    "           1.55688658]),\n",
    " np.array([ 1.00000000e+00, -2.26578183e+03,  1.09974331e+03,  1.41724513e+02,\n",
    "         5.54310802e+00]),\n",
    " np.array([ 2.        ,  4.04412279, 83.4419023 , -0.16813332,  1.7397543 ]),\n",
    " np.array([  3.        ,  -9.8850982 ,  73.00987746, -11.69389273,\n",
    "          2.09714441])]\n",
    "\n",
    "output_arr = np.array(output)"
   ]
  },
  {
   "cell_type": "code",
   "execution_count": 51,
   "metadata": {},
   "outputs": [],
   "source": [
    "# test that ordering is identical\n",
    "if np.all(info_df['diffimgname'] == xy_df['path'].unique()):\n",
    "    Fmcmc = np.zeros_like(info_df['zp'])\n",
    "    Fmcmc_unc = np.zeros_like(Fmcmc)\n",
    "    amcmc = np.zeros_like(Fmcmc)\n",
    "    amcmc_unc = np.zeros_like(Fmcmc)\n",
    "    for res_idx in output_arr[:,0].astype(int):\n",
    "        idx = np.where(xy_df['index'].unique() == res_idx)[0]\n",
    "        Fmcmc[idx] = output_arr[res_idx, 1]\n",
    "        Fmcmc_unc[idx] = output_arr[res_idx, 2]\n",
    "        amcmc[idx] = output_arr[res_idx, 3]\n",
    "        amcmc_unc[idx] = output_arr[res_idx, 4]\n",
    "else:\n",
    "    raise ValueError(\"Input files do not have the same order\")"
   ]
  },
  {
   "cell_type": "code",
   "execution_count": 55,
   "metadata": {},
   "outputs": [],
   "source": [
    "F0 = 10**(info_df['zp'].values/2.5)\n",
    "F0_unc = F0 / 2.5 * np.log(10) * info_df['ezp']\n",
    "Fratio =  Fmcmc/F0\n",
    "Fratio_unc = np.hypot(Fmcmc_unc/F0, Fmcmc*F0_unc/F0**2)"
   ]
  },
  {
   "cell_type": "code",
   "execution_count": 63,
   "metadata": {},
   "outputs": [],
   "source": [
    "info_df['Fmcmc'] = Fmcmc\n",
    "info_df['Fmcmc_unc'] = Fmcmc_unc\n",
    "info_df['Fratio'] = Fratio\n",
    "info_df['Fratio_unc'] = Fratio_unc\n",
    "\n",
    "info_df.to_hdf(info_path + '{}_force_phot.h5'.format(ztf_name), 'lc')"
   ]
  },
  {
   "cell_type": "markdown",
   "metadata": {},
   "source": [
    "The resulting hdf5 file now holds all the necessary information to create a force photometry light curve."
   ]
  }
 ],
 "metadata": {
  "kernelspec": {
   "display_name": "Python 3",
   "language": "python",
   "name": "python3"
  },
  "language_info": {
   "codemirror_mode": {
    "name": "ipython",
    "version": 3
   },
   "file_extension": ".py",
   "mimetype": "text/x-python",
   "name": "python",
   "nbconvert_exporter": "python",
   "pygments_lexer": "ipython3",
   "version": "3.7.1"
  }
 },
 "nbformat": 4,
 "nbformat_minor": 2
}
